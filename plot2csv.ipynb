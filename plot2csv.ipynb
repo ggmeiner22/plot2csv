{
  "nbformat": 4,
  "nbformat_minor": 0,
  "metadata": {
    "colab": {
      "provenance": [],
      "authorship_tag": "ABX9TyNN1XfZisV1xrNNaKbO2Uu/",
      "include_colab_link": true
    },
    "kernelspec": {
      "name": "python3",
      "display_name": "Python 3"
    },
    "language_info": {
      "name": "python"
    }
  },
  "cells": [
    {
      "cell_type": "markdown",
      "metadata": {
        "id": "view-in-github",
        "colab_type": "text"
      },
      "source": [
        "<a href=\"https://colab.research.google.com/github/ggmeiner22/plot2csv/blob/main/plot2csv.ipynb\" target=\"_parent\"><img src=\"https://colab.research.google.com/assets/colab-badge.svg\" alt=\"Open In Colab\"/></a>"
      ]
    },
    {
      "cell_type": "markdown",
      "source": [
        "Project: Turn a 2D line-plot image (PNG/JPEG) into one or more CSV files of ordered (x,y) points in axis units (not pixels), using PyTorch and classic CV as needed.\n",
        "\n",
        "Input: PNG/JPEG of a 2D curve plot.\n",
        "Output: CSV with N ordered (x, y) points per curve in axis units.\n",
        "\n",
        "Keep Simple, fixed\n",
        "X values 1-20\n",
        "Y values 1-20\n",
        "\n",
        "AED (auto encoder-decoder) model or directly cnn.  Produce 20 numbers. 10 - 20 output nodes. Start with image 50x50 pixels. Output is 20 numbers. Network shrinks to that level.end to end one model."
      ],
      "metadata": {
        "id": "fXCTYuu2G6zb"
      }
    },
    {
      "cell_type": "code",
      "execution_count": null,
      "metadata": {
        "id": "bHcmwwbhG2Gx"
      },
      "outputs": [],
      "source": []
    }
  ]
}