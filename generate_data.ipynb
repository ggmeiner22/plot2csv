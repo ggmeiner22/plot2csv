{
  "nbformat": 4,
  "nbformat_minor": 0,
  "metadata": {
    "colab": {
      "provenance": [],
      "authorship_tag": "ABX9TyOfi9YB9Qxc9WjWZ+cn2ukk",
      "include_colab_link": true
    },
    "kernelspec": {
      "name": "python3",
      "display_name": "Python 3"
    },
    "language_info": {
      "name": "python"
    }
  },
  "cells": [
    {
      "cell_type": "markdown",
      "metadata": {
        "id": "view-in-github",
        "colab_type": "text"
      },
      "source": [
        "<a href=\"https://colab.research.google.com/github/ggmeiner22/plot2csv/blob/main/generate_data.ipynb\" target=\"_parent\"><img src=\"https://colab.research.google.com/assets/colab-badge.svg\" alt=\"Open In Colab\"/></a>"
      ]
    },
    {
      "cell_type": "code",
      "source": [
        "import os\n",
        "import io\n",
        "import math\n",
        "import base64\n",
        "import random\n",
        "import numpy as np\n",
        "import pandas as pd\n",
        "from PIL import Image, ImageDraw\n",
        "import matplotlib.pyplot as plt\n",
        "from sklearn.model_selection import train_test_split\n",
        "import torch\n",
        "from torch.utils.data import Dataset, DataLoader\n",
        "import torch.nn as nn\n",
        "import csv\n",
        "\n",
        "device = torch.device(\"cuda\" if torch.cuda.is_available() else \"cpu\")\n",
        "!rm -rf /content/sample_data"
      ],
      "metadata": {
        "id": "BD_UIMennDw9"
      },
      "execution_count": 124,
      "outputs": []
    },
    {
      "cell_type": "code",
      "execution_count": 125,
      "metadata": {
        "id": "EXRAw_XQl7r8"
      },
      "outputs": [],
      "source": [
        "CURVE_TYPES = [\"linear\", \"quadratic\", \"exponential\", \"logarithmic\", \"sinusoid\", \"sigmoid\"]\n",
        "X_AXIS = np.arange(1, 21)\n",
        "\n",
        "\n",
        "def set_seed(seed: int | None):\n",
        "    if seed is not None:\n",
        "        random.seed(seed)\n",
        "        np.random.seed(seed)\n",
        "\n",
        "\n",
        "def scale_to_axis(y_raw, low=1.0, high=20.0):\n",
        "    y_raw = np.asarray(y_raw, dtype=float)\n",
        "    ymin, ymax = np.min(y_raw), np.max(y_raw)\n",
        "    if ymax - ymin < 1e-8:\n",
        "        return np.ones_like(y_raw) * ((low + high) / 2.0)\n",
        "    y_norm = (y_raw - ymin) / (ymax - ymin)\n",
        "    return low + y_norm * (high - low)\n",
        "\n",
        "\n",
        "def to_pixel(x_axis, y_axis, w, h):\n",
        "    px = int(round((x_axis - 1) / 19.0 * (w - 1)))\n",
        "    py = int(round((20.0 - y_axis) / 19.0 * (h - 1)))\n",
        "    return px, py\n",
        "\n",
        "\n",
        "def _to_hr_px(x_axis, y_axis, W, H):\n",
        "\n",
        "    px = int(round((x_axis - 1) / 19.0 * (W - 1)))\n",
        "    py = int(round((20.0 - y_axis) / 19.0 * (H - 1)))\n",
        "    return px, py\n",
        "\n",
        "def draw_curve_pretty(y_axis, img_size=50, stroke=2, with_markers=True):\n",
        "    \"\"\"\n",
        "    Render a smooth, antialiased curve with markers at x=1..20.\n",
        "    Internally draw at high-res and downsample to img_size.\n",
        "    \"\"\"\n",
        "    # High-res canvas for anti-aliasing\n",
        "    HR = 256                     # internal resolution (bigger => smoother)\n",
        "    W = H = HR\n",
        "    line_w = 6                   # high-res line width (gets smoothed on downscale)\n",
        "    marker_r = 7 if with_markers else 0  # high-res marker radius\n",
        "\n",
        "    # 1) draw in high-res\n",
        "    img_hr = Image.new(\"L\", (W, H), color=255)\n",
        "    dr = ImageDraw.Draw(img_hr)\n",
        "\n",
        "    # Fine interpolation for a smooth curve\n",
        "    x_fine = np.linspace(1, 20, 400)\n",
        "    y_fine = np.interp(x_fine, X_AXIS, y_axis)\n",
        "    pts = [_to_hr_px(x, y_fine[i], W, H) for i, x in enumerate(x_fine)]\n",
        "\n",
        "    # Smooth polyline\n",
        "    for (x0, y0), (x1, y1) in zip(pts[:-1], pts[1:]):\n",
        "        dr.line((x0, y0, x1, y1), fill=0, width=line_w)\n",
        "\n",
        "    # Optional: round markers at the 20 sample points\n",
        "    if with_markers:\n",
        "        for i, x in enumerate(X_AXIS):\n",
        "            px, py = _to_hr_px(x, y_axis[i], W, H)\n",
        "            dr.ellipse((px - marker_r, py - marker_r, px + marker_r, py + marker_r), outline=0, width=3, fill=None)\n",
        "\n",
        "    # 2) downsample to the requested size with bicubic filter (anti-aliased)\n",
        "    img = img_hr.resize((img_size, img_size), Image.BICUBIC)\n",
        "    return img\n",
        "\n",
        "\n",
        "\n",
        "\n",
        "def sample_params(curve_type):\n",
        "    if curve_type == \"linear\":\n",
        "        a = np.random.uniform(-3, 3)\n",
        "        b = np.random.uniform(-10, 10)\n",
        "        return a, b\n",
        "    if curve_type == \"quadratic\":\n",
        "        a = np.random.uniform(-1.5, 1.5)\n",
        "        b = np.random.uniform(-5, 5)\n",
        "        c = np.random.uniform(-10, 10)\n",
        "        return a, b, c\n",
        "    if curve_type == \"exponential\":\n",
        "        A = np.random.uniform(0.5, 3.0)\n",
        "        k = np.random.uniform(-0.25, 0.25)\n",
        "        c = np.random.uniform(-3, 3)\n",
        "        return A, k, c\n",
        "    if curve_type == \"logarithmic\":\n",
        "        A = np.random.uniform(0.5, 5.0)\n",
        "        shift = np.random.uniform(-2.0, 2.0)\n",
        "        base = np.random.uniform(1.5, 4.0)\n",
        "        c = np.random.uniform(-3, 3)\n",
        "        return A, shift, base, c\n",
        "    if curve_type == \"sinusoid\":\n",
        "        A = np.random.uniform(1.0, 8.0)\n",
        "        w = np.random.uniform(0.2, 1.0)\n",
        "        phi = np.random.uniform(0, 2 * math.pi)\n",
        "        c = np.random.uniform(-5, 5)\n",
        "        return A, w, phi, c\n",
        "    if curve_type == \"sigmoid\":\n",
        "        A = np.random.uniform(5.0, 20.0)\n",
        "        k = np.random.uniform(0.2, 1.0)\n",
        "        x0 = np.random.uniform(5.0, 15.0)\n",
        "        c = np.random.uniform(-5, 5)\n",
        "        return A, k, x0, c\n",
        "    raise ValueError(curve_type)\n",
        "\n",
        "\n",
        "def gen_curve_values(curve_type, params):\n",
        "    x = np.asarray(X_AXIS, dtype=float)\n",
        "    if curve_type == \"linear\":\n",
        "        a, b = params\n",
        "        y = a * x + b\n",
        "    elif curve_type == \"quadratic\":\n",
        "        a, b, c = params\n",
        "        y = a * x**2 + b * x + c\n",
        "    elif curve_type == \"exponential\":\n",
        "        A, k, c = params\n",
        "        y = A * np.exp(k * x) + c\n",
        "    elif curve_type == \"logarithmic\":\n",
        "        A, shift, base, c = params\n",
        "        z = np.maximum(x + shift, 1e-3)\n",
        "        y = A * (np.log(z) / np.log(base)) + c\n",
        "    elif curve_type == \"sinusoid\":\n",
        "        A, w, phi, c = params\n",
        "        y = A * np.sin(w * x + phi) + c\n",
        "    elif curve_type == \"sigmoid\":\n",
        "        A, k, x0, c = params\n",
        "        y = A / (1.0 + np.exp(-k * (x - x0))) + c\n",
        "    else:\n",
        "        raise ValueError(curve_type)\n",
        "\n",
        "    std = np.std(y)\n",
        "    noise_sigma = 0.02 * std if std > 0 else 0.05\n",
        "    y_noisy = y + np.random.normal(0, noise_sigma, size=y.shape)\n",
        "    return scale_to_axis(y_noisy, 1.0, 20.0)\n",
        "\n",
        "\n",
        "def generate_dataset(\n",
        "    out_dir=\"/content/plot2csv_synth\",\n",
        "    n_per_type=200,\n",
        "    img_size=50,\n",
        "    jpeg_quality=90,\n",
        "    seed=42,\n",
        "    include_base64=True,\n",
        "):\n",
        "    set_seed(seed)\n",
        "    out_dir = os.path.abspath(out_dir)\n",
        "    img_dir = os.path.join(out_dir, \"images\")\n",
        "    os.makedirs(img_dir, exist_ok=True)\n",
        "\n",
        "    rows = []\n",
        "    for curve_type in CURVE_TYPES:\n",
        "        for i in range(n_per_type):\n",
        "            params = sample_params(curve_type)\n",
        "            y_axis = gen_curve_values(curve_type, params)\n",
        "            img = draw_curve_pretty(y_axis, img_size=img_size, stroke=random.choice([1, 1, 2]))\n",
        "\n",
        "            fname = f\"{curve_type}_{i:04d}.jpg\"\n",
        "            path = os.path.join(img_dir, fname)\n",
        "            img.save(path, format=\"JPEG\", quality=jpeg_quality, subsampling=1)\n",
        "\n",
        "            if include_base64:\n",
        "                with io.BytesIO() as buf:\n",
        "                    img.save(buf, format=\"JPEG\", quality=jpeg_quality, subsampling=1)\n",
        "                    img_b64 = base64.b64encode(buf.getvalue()).decode(\"ascii\")\n",
        "            else:\n",
        "                img_b64 = None\n",
        "\n",
        "            row = {\"type\": curve_type, \"image\": path}\n",
        "            if include_base64:\n",
        "                row[\"image_b64_jpeg\"] = img_b64\n",
        "\n",
        "            for k, yval in enumerate(y_axis, start=1):\n",
        "                row[f\"y{k}\"] = float(yval)\n",
        "                row[f\"y{k}_norm\"] = float((yval - 1.0) / 19.0)\n",
        "\n",
        "            rows.append(row)\n",
        "\n",
        "    df = pd.DataFrame(rows)\n",
        "    csv_path = os.path.join(out_dir, f\"dataset_six_shapes_{len(df)}.csv\")\n",
        "    df.to_csv(csv_path, index=False)\n",
        "    return csv_path"
      ]
    },
    {
      "cell_type": "code",
      "source": [
        "csv_path = generate_dataset(\n",
        "    out_dir=\"/content/plot2csv_synth\",  # where images + CSV will go\n",
        "    n_per_type=200,                    # 6 types × 200 = 1200 samples\n",
        "    img_size=50,\n",
        "    jpeg_quality=90,\n",
        "    seed=42,                           # or None for fresh randomness\n",
        "    include_base64=True\n",
        ")\n",
        "csv_path"
      ],
      "metadata": {
        "colab": {
          "base_uri": "https://localhost:8080/",
          "height": 36
        },
        "id": "O9yaS1yhmKOk",
        "outputId": "90b0c0b9-444f-4e6b-98e1-18737a5abd60"
      },
      "execution_count": 126,
      "outputs": [
        {
          "output_type": "execute_result",
          "data": {
            "text/plain": [
              "'/content/plot2csv_synth/dataset_six_shapes_1200.csv'"
            ],
            "application/vnd.google.colaboratory.intrinsic+json": {
              "type": "string"
            }
          },
          "metadata": {},
          "execution_count": 126
        }
      ]
    },
    {
      "cell_type": "markdown",
      "source": [
        "## Split into train/val and write two CSVs"
      ],
      "metadata": {
        "id": "z4-qP1hjuQWj"
      }
    },
    {
      "cell_type": "code",
      "source": [
        "assert os.path.exists(csv_path), f\"Master CSV not found at {csv_path}. Run the data-gen cell first.\"\n",
        "out_dir = os.path.dirname(csv_path)\n",
        "print(f\"Writing train/val splits to {out_dir}\")\n",
        "\n",
        "def write_splits(csv_path, out_dir, val_size=0.15, seed=42, make_rel_paths=True):\n",
        "    df = pd.read_csv(csv_path)\n",
        "\n",
        "    # Expect columns: image, y1_norm ... y20_norm (plus optionally y1 ... y20)\n",
        "    needed = [\"image\"] + [f\"y{k}_norm\" for k in range(1, 21)]\n",
        "    missing = [c for c in needed if c not in df.columns]\n",
        "    if missing:\n",
        "        raise ValueError(f\"Missing columns in {csv_path}: {missing}\")\n",
        "\n",
        "    # Make image paths relative to out_dir so the dataset can load them from anywhere\n",
        "    if make_rel_paths:\n",
        "        df[\"image\"] = df[\"image\"].apply(lambda p: os.path.relpath(p, start=out_dir))\n",
        "\n",
        "    # Split\n",
        "    train_df, val_df = train_test_split(\n",
        "        df, test_size=val_size, random_state=seed, shuffle=True\n",
        "    )\n",
        "\n",
        "    # Create split dirs\n",
        "    train_dir = os.path.join(out_dir, \"train\"); os.makedirs(train_dir, exist_ok=True)\n",
        "    val_dir   = os.path.join(out_dir, \"val\");   os.makedirs(val_dir, exist_ok=True)\n",
        "\n",
        "    # Write labels.csv for each split\n",
        "    train_csv = os.path.join(train_dir, \"labels.csv\")\n",
        "    val_csv   = os.path.join(val_dir, \"labels.csv\")\n",
        "    train_df.to_csv(train_csv, index=False)\n",
        "    val_df.to_csv(val_csv, index=False)\n",
        "\n",
        "    print(f\"Wrote:\\n  {train_csv}\\n  {val_csv}\")\n",
        "    return train_dir, val_dir\n",
        "\n",
        "train_dir, val_dir = write_splits(csv_path, out_dir)\n"
      ],
      "metadata": {
        "id": "qTE93FBPriFE",
        "outputId": "8e52051b-22b7-4f0e-a11b-a95b0e724d80",
        "colab": {
          "base_uri": "https://localhost:8080/"
        }
      },
      "execution_count": 127,
      "outputs": [
        {
          "output_type": "stream",
          "name": "stdout",
          "text": [
            "Writing train/val splits to /content/plot2csv_synth\n",
            "Wrote:\n",
            "  /content/plot2csv_synth/train/labels.csv\n",
            "  /content/plot2csv_synth/val/labels.csv\n"
          ]
        }
      ]
    },
    {
      "cell_type": "code",
      "source": [
        "\n",
        "df = pd.read_csv(csv_path)\n",
        "print(df.head(),'\\n')        # show first few rows\n",
        "print(len(df),'\\n')          # confirm total rows (1200)\n",
        "\n",
        "print(pd.read_csv(os.path.join(train_dir, \"labels.csv\")).head(2),'\\n')\n",
        "print(pd.read_csv(os.path.join(val_dir, \"labels.csv\")).head(2))"
      ],
      "metadata": {
        "colab": {
          "base_uri": "https://localhost:8080/"
        },
        "id": "2dWOvMlrmXKT",
        "outputId": "a1b47d3d-39cc-49bd-cbda-fc6a0433da5a"
      },
      "execution_count": 128,
      "outputs": [
        {
          "output_type": "stream",
          "name": "stdout",
          "text": [
            "     type                                           image  \\\n",
            "0  linear  /content/plot2csv_synth/images/linear_0000.jpg   \n",
            "1  linear  /content/plot2csv_synth/images/linear_0001.jpg   \n",
            "2  linear  /content/plot2csv_synth/images/linear_0002.jpg   \n",
            "3  linear  /content/plot2csv_synth/images/linear_0003.jpg   \n",
            "4  linear  /content/plot2csv_synth/images/linear_0004.jpg   \n",
            "\n",
            "                                      image_b64_jpeg    y1  y1_norm  \\\n",
            "0  /9j/4AAQSkZJRgABAQAAAQABAAD/2wBDAAMCAgMCAgMDAw...  20.0      1.0   \n",
            "1  /9j/4AAQSkZJRgABAQAAAQABAAD/2wBDAAMCAgMCAgMDAw...  20.0      1.0   \n",
            "2  /9j/4AAQSkZJRgABAQAAAQABAAD/2wBDAAMCAgMCAgMDAw...  20.0      1.0   \n",
            "3  /9j/4AAQSkZJRgABAQAAAQABAAD/2wBDAAMCAgMCAgMDAw...   1.0      0.0   \n",
            "4  /9j/4AAQSkZJRgABAQAAAQABAAD/2wBDAAMCAgMCAgMDAw...   1.0      0.0   \n",
            "\n",
            "          y2   y2_norm         y3   y3_norm         y4  ...        y16  \\\n",
            "0  19.105691  0.952931  17.909385  0.889968  16.914661  ...   5.040855   \n",
            "1  19.074206  0.951274  17.926981  0.890894  17.101829  ...   5.063428   \n",
            "2  19.165838  0.956097  18.071484  0.898499  16.814672  ...   4.864801   \n",
            "3   1.884072  0.046530   3.000372  0.105283   4.136295  ...  15.901499   \n",
            "4   2.101661  0.057982   2.909828  0.100517   3.954092  ...  16.051072   \n",
            "\n",
            "   y16_norm        y17  y17_norm        y18  y18_norm        y19  y19_norm  \\\n",
            "0  0.212677   3.905913  0.152943   2.853337  0.097544   2.188762  0.062566   \n",
            "1  0.213865   4.124503  0.164448   3.057526  0.108291   2.022898  0.053837   \n",
            "2  0.203411   3.746288  0.144541   2.724657  0.090771   1.947748  0.049881   \n",
            "3  0.784289  16.868221  0.835170  17.903803  0.889674  19.067470  0.950919   \n",
            "4  0.792162  17.223220  0.853854  18.026664  0.896140  19.037285  0.949331   \n",
            "\n",
            "    y20  y20_norm  \n",
            "0   1.0       0.0  \n",
            "1   1.0       0.0  \n",
            "2   1.0       0.0  \n",
            "3  20.0       1.0  \n",
            "4  20.0       1.0  \n",
            "\n",
            "[5 rows x 43 columns] \n",
            "\n",
            "1200 \n",
            "\n",
            "          type                        image  \\\n",
            "0  logarithmic  images/logarithmic_0124.jpg   \n",
            "1     sinusoid     images/sinusoid_0026.jpg   \n",
            "\n",
            "                                      image_b64_jpeg         y1  y1_norm  \\\n",
            "0  /9j/4AAQSkZJRgABAQAAAQABAAD/2wBDAAMCAgMCAgMDAw...   1.000000   0.0000   \n",
            "1  /9j/4AAQSkZJRgABAQAAAQABAAD/2wBDAAMCAgMCAgMDAw...  14.108104   0.6899   \n",
            "\n",
            "         y2   y2_norm        y3   y3_norm        y4  ...        y16  y16_norm  \\\n",
            "0  4.156105  0.166111  6.493977  0.289157  8.310488  ...  18.044568  0.897083   \n",
            "1  9.741452  0.460076  5.688423  0.246759  2.817028  ...  10.641998  0.507474   \n",
            "\n",
            "         y17  y17_norm        y18  y18_norm        y19  y19_norm        y20  \\\n",
            "0  18.637220  0.928275  18.909119  0.942585  19.276925  0.961943  20.000000   \n",
            "1   6.749843  0.302623   3.450533  0.128975   1.354609  0.018664   1.034913   \n",
            "\n",
            "   y20_norm  \n",
            "0  1.000000  \n",
            "1  0.001838  \n",
            "\n",
            "[2 rows x 43 columns] \n",
            "\n",
            "       type                     image  \\\n",
            "0   sigmoid   images/sigmoid_0178.jpg   \n",
            "1  sinusoid  images/sinusoid_0065.jpg   \n",
            "\n",
            "                                      image_b64_jpeg       y1   y1_norm  \\\n",
            "0  /9j/4AAQSkZJRgABAQAAAQABAAD/2wBDAAMCAgMCAgMDAw...  1.00000  0.000000   \n",
            "1  /9j/4AAQSkZJRgABAQAAAQABAAD/2wBDAAMCAgMCAgMDAw...  4.84029  0.202121   \n",
            "\n",
            "         y2   y2_norm        y3   y3_norm        y4  ...        y16  y16_norm  \\\n",
            "0  1.395823  0.020833  2.639122  0.086270  3.685357  ...  19.522809  0.974885   \n",
            "1  1.442720  0.023301  1.312314  0.016438  3.179846  ...   5.452230  0.234328   \n",
            "\n",
            "         y17  y17_norm        y18  y18_norm        y19  y19_norm   y20  \\\n",
            "0  19.790292  0.988963  19.468719  0.972038  19.977156  0.998798  20.0   \n",
            "1  10.619882  0.506310  15.617995  0.769368  18.965671  0.945562  20.0   \n",
            "\n",
            "   y20_norm  \n",
            "0       1.0  \n",
            "1       1.0  \n",
            "\n",
            "[2 rows x 43 columns]\n"
          ]
        }
      ]
    },
    {
      "cell_type": "code",
      "source": [
        "# Pick a few sample rows\n",
        "sample_rows = df.sample(4)  # random 4 samples\n",
        "\n",
        "for idx, row in sample_rows.iterrows():\n",
        "    img = Image.open(row[\"image\"])\n",
        "    plt.imshow(img, cmap='gray')\n",
        "    plt.title(f\"{row['type']} | {row['image']}\")\n",
        "    plt.axis('off')\n",
        "    plt.show()"
      ],
      "metadata": {
        "colab": {
          "base_uri": "https://localhost:8080/",
          "height": 1000
        },
        "id": "v1k7_QD5mdqj",
        "outputId": "d785b83f-296f-4558-9062-dfaa713a5a27"
      },
      "execution_count": 129,
      "outputs": [
        {
          "output_type": "display_data",
          "data": {
            "text/plain": [
              "<Figure size 640x480 with 1 Axes>"
            ],
            "image/png": "[encoded data removed]"
          },
          "metadata": {}
        },
        {
          "output_type": "display_data",
          "data": {
            "text/plain": [
              "<Figure size 640x480 with 1 Axes>"
            ],
            "image/png": "[encoded data removed]"
          },
          "metadata": {}
        },
        {
          "output_type": "display_data",
          "data": {
            "text/plain": [
              "<Figure size 640x480 with 1 Axes>"
            ],
            "image/png": "[encoded data removed]"
          },
          "metadata": {}
        },
        {
          "output_type": "display_data",
          "data": {
            "text/plain": [
              "<Figure size 640x480 with 1 Axes>"
            ],
            "image/png": "[encoded data removed]"
          },
          "metadata": {}
        }
      ]
    },
    {
      "cell_type": "code",
      "source": [
        "def load_images_to_numpy(image_paths, img_size=(50, 50)):\n",
        "    imgs = []\n",
        "    for p in image_paths:\n",
        "        img = Image.open(p).convert(\"L\")\n",
        "        img = img.resize(img_size)\n",
        "        img_arr = np.array(img, dtype=np.float32) / 255.0  # normalize to [0,1]\n",
        "        imgs.append(img_arr)\n",
        "    return np.stack(imgs)\n",
        "\n",
        "csv_path = '/content/plot2csv_synth/dataset_six_shapes_1200.csv'\n",
        "\n",
        "\n",
        "df = pd.read_csv(csv_path)\n",
        "\n",
        "X = load_images_to_numpy(df[\"image\"].tolist(), img_size=(50, 50))\n",
        "\n",
        "\n",
        "\n",
        "print(\"X shape:\", X.shape)\n",
        "\n",
        "# Map curve types to integer labels\n",
        "label_map = {curve_type: idx for idx, curve_type in enumerate(df[\"type\"].unique())}\n",
        "y = df[\"type\"].map(label_map).values\n",
        "\n",
        "print(\"Label mapping:\", label_map)\n",
        "print(\"y shape:\", y.shape)\n",
        "print(\"First 10 labels:\", y[:10])\n",
        "\n",
        "num_classes = len(label_map)\n",
        "y_onehot = np.eye(num_classes)[y]\n",
        "\n",
        "print(\"y_onehot shape:\", y_onehot.shape)"
      ],
      "metadata": {
        "colab": {
          "base_uri": "https://localhost:8080/"
        },
        "id": "lqw3lAaxmhX9",
        "outputId": "0fb5d155-c8ed-4307-a130-e3548797cf84"
      },
      "execution_count": 130,
      "outputs": [
        {
          "output_type": "stream",
          "name": "stdout",
          "text": [
            "X shape: (1200, 50, 50)\n",
            "Label mapping: {'linear': 0, 'quadratic': 1, 'exponential': 2, 'logarithmic': 3, 'sinusoid': 4, 'sigmoid': 5}\n",
            "y shape: (1200,)\n",
            "First 10 labels: [0 0 0 0 0 0 0 0 0 0]\n",
            "y_onehot shape: (1200, 6)\n"
          ]
        }
      ]
    },
    {
      "cell_type": "markdown",
      "source": [
        "## Minimal PyTorch Dataset & DataLoader (regression)"
      ],
      "metadata": {
        "id": "OHulZeMquVXq"
      }
    },
    {
      "cell_type": "code",
      "source": [
        "YCOLS = [f\"y{k}_norm\" for k in range(1, 21)]  # 20 normalized targets in [0,1]\n",
        "\n",
        "class Plot2CSVDataset(Dataset):\n",
        "    def __init__(self, root_dir):\n",
        "        self.root_dir = root_dir\n",
        "        self.df = pd.read_csv(os.path.join(root_dir, \"labels.csv\"))\n",
        "        # sanity check\n",
        "        for c in [\"image\"] + YCOLS:\n",
        "            assert c in self.df.columns, f\"Missing column: {c}\"\n",
        "\n",
        "    def __len__(self):\n",
        "        return len(self.df)\n",
        "\n",
        "    def __getitem__(self, idx):\n",
        "        row = self.df.iloc[idx]\n",
        "        img_path = os.path.join(os.path.dirname(self.root_dir), row[\"image\"])\n",
        "        img = Image.open(img_path).convert(\"L\").resize((50, 50))\n",
        "        x = np.asarray(img, dtype=np.float32) / 255.0\n",
        "        x = np.expand_dims(x, 0)  # (1,50,50)\n",
        "        y = row[YCOLS].to_numpy(dtype=np.float32)  # (20,)\n",
        "        return torch.from_numpy(x), torch.from_numpy(y)\n",
        "\n",
        "train_ds = Plot2CSVDataset(train_dir)\n",
        "val_ds   = Plot2CSVDataset(val_dir)\n",
        "\n",
        "train_loader = DataLoader(train_ds, batch_size=128, shuffle=True)\n",
        "val_loader   = DataLoader(val_ds,   batch_size=128, shuffle=False)\n",
        "\n",
        "len(train_ds), len(val_ds)"
      ],
      "metadata": {
        "colab": {
          "base_uri": "https://localhost:8080/"
        },
        "id": "Ren42atut0Cq",
        "outputId": "03a0afb3-5d62-42e7-b36c-9698ca097406"
      },
      "execution_count": 131,
      "outputs": [
        {
          "output_type": "execute_result",
          "data": {
            "text/plain": [
              "(1020, 180)"
            ]
          },
          "metadata": {},
          "execution_count": 131
        }
      ]
    },
    {
      "cell_type": "markdown",
      "source": [
        "## Lightweight CNN head → 20 outputs (Sigmoid), MSE loss"
      ],
      "metadata": {
        "id": "W5BkyYyTueba"
      }
    },
    {
      "cell_type": "code",
      "source": [
        "class TinyRegressor(nn.Module):\n",
        "    def __init__(self):\n",
        "        super().__init__()\n",
        "        self.net = nn.Sequential(\n",
        "            nn.Conv2d(1, 16, 3, padding=1), nn.ReLU(),\n",
        "            nn.MaxPool2d(2),  # 25x25\n",
        "            nn.Conv2d(16, 32, 3, padding=1), nn.ReLU(),\n",
        "            nn.MaxPool2d(2),  # 12x12\n",
        "            nn.Conv2d(32, 64, 3, padding=1), nn.ReLU(),\n",
        "            nn.AdaptiveAvgPool2d((1,1)),    # (64,1,1)\n",
        "        )\n",
        "        self.head = nn.Sequential(\n",
        "            nn.Flatten(),\n",
        "            nn.Linear(64, 64), nn.ReLU(),\n",
        "            nn.Linear(64, 20),\n",
        "            nn.Sigmoid()  # keep outputs in [0,1]\n",
        "        )\n",
        "\n",
        "    def forward(self, x):\n",
        "        feats = self.net(x)\n",
        "        return self.head(feats)\n",
        "\n",
        "model = TinyRegressor()\n",
        "criterion = nn.MSELoss()         # regression (choose MSE/MAE; not cross-entropy)\n",
        "optimizer = torch.optim.Adam(model.parameters(), lr=1e-3)"
      ],
      "metadata": {
        "id": "A2aF_ntFuGTD"
      },
      "execution_count": 132,
      "outputs": []
    },
    {
      "cell_type": "code",
      "source": [
        "def denorm_axis(y_norm: np.ndarray) -> np.ndarray:\n",
        "    # y_norm shape (..., 20) in [0,1] -> axis units [1,20]\n",
        "    return 1.0 + 19.0 * y_norm\n",
        "\n",
        "def batch_metrics_axis(pred_norm: torch.Tensor, true_norm: torch.Tensor, thresholds=(0.5, 1.0, 2.0)):\n",
        "    \"\"\"\n",
        "    pred_norm, true_norm: shape (B, 20) in [0,1] torch tensors\n",
        "    Returns dict with MAE, RMSE, R^2 and 'hit rate' within thresholds (axis units).\n",
        "    \"\"\"\n",
        "    # to cpu numpy\n",
        "    p = pred_norm.detach().cpu().numpy()\n",
        "    t = true_norm.detach().cpu().numpy()\n",
        "\n",
        "    # convert to axis units\n",
        "    p_ax = denorm_axis(p)\n",
        "    t_ax = denorm_axis(t)\n",
        "\n",
        "    # errors\n",
        "    err = p_ax - t_ax\n",
        "    abs_err = np.abs(err)\n",
        "    mae = float(abs_err.mean())\n",
        "    rmse = float(np.sqrt((err ** 2).mean()))\n",
        "\n",
        "    # R^2 over all points in the batch (flatten all y’s)\n",
        "    # Handle constant target edge-case\n",
        "    t_flat = t_ax.reshape(-1)\n",
        "    p_flat = p_ax.reshape(-1)\n",
        "    sse = float(np.sum((t_flat - p_flat) ** 2))\n",
        "    t_mean = float(np.mean(t_flat))\n",
        "    sst = float(np.sum((t_flat - t_mean) ** 2))\n",
        "    r2 = float(1.0 - sse / sst) if sst > 0 else float(\"nan\")\n",
        "\n",
        "    # Point-wise hit rates: % of individual y points within ±threshold\n",
        "    hit_rates = {}\n",
        "    for th in thresholds:\n",
        "        hit_rates[f\"hit@±{th}\"] = float((abs_err <= th).mean())\n",
        "\n",
        "    # Curve-wise hit rate: % of curves where *all 20 points* are within ±threshold\n",
        "    curve_hits = {}\n",
        "    for th in thresholds:\n",
        "        curve_hits[f\"curve_hit@±{th}\"] = float((abs_err.max(axis=1) <= th).mean())\n",
        "\n",
        "    return {\n",
        "        \"MAE_axis\": mae,\n",
        "        \"RMSE_axis\": rmse,\n",
        "        \"R2_axis\": r2,\n",
        "        **hit_rates,\n",
        "        **curve_hits,\n",
        "    }\n",
        "\n",
        "# Helper: pick a validation index and display image + curves\n",
        "def show_val_sample(idx=0):\n",
        "    # 1) Load image path from the validation dataframe\n",
        "    row = val_ds.df.iloc[idx]\n",
        "    img_rel = row[\"image\"]  # e.g., \"images/xxxx.png\"\n",
        "    img_path = os.path.join(os.path.dirname(val_dir), img_rel)  # root/images/...\n",
        "\n",
        "    # 2) Open the original plot image (as used by the model)\n",
        "    img = Image.open(img_path).convert(\"L\").resize((50, 50))\n",
        "\n",
        "    # 3) Build the model input just like Dataset does\n",
        "    x = (np.asarray(img, dtype=np.float32) / 255.0)[None, None, ...]  # (1,1,50,50)\n",
        "    x_t = torch.from_numpy(x).to(device)\n",
        "\n",
        "    # 4) Get prediction and ground-truth for this exact sample\n",
        "    model.eval()\n",
        "    with torch.no_grad():\n",
        "        yhat = model(x_t).cpu().numpy().squeeze(0)  # normalized [0,1], shape (20,)\n",
        "\n",
        "    y_true = row[[f\"y{k}_norm\" for k in range(1, 21)]].to_numpy(np.float32)\n",
        "\n",
        "    # 5) Denormalize to axis units [1,20]\n",
        "    def denorm_axis(y_norm: np.ndarray) -> np.ndarray:\n",
        "        return 1.0 + 19.0 * y_norm\n",
        "\n",
        "    y_pred_axis = denorm_axis(yhat)\n",
        "    y_true_axis = denorm_axis(y_true)\n",
        "    xs = np.arange(1, 21)\n",
        "\n",
        "    # === First figure: the actual input image ===\n",
        "    plt.figure()\n",
        "    plt.imshow(img, cmap=\"gray\")\n",
        "    plt.axis(\"off\")\n",
        "    plt.title(f\"Validation image (idx={idx})\\n{img_rel}\")\n",
        "\n",
        "    # === Second figure: predicted vs. ground-truth curve ===\n",
        "    plt.figure()\n",
        "    plt.plot(xs, y_true_axis, marker=\"o\", label=\"true\")\n",
        "    plt.plot(xs, y_pred_axis, marker=\"x\", label=\"pred\")\n",
        "    plt.xlabel(\"x\")\n",
        "    plt.ylabel(\"y (axis units)\")\n",
        "    plt.title(f\"Validation sample (idx={idx})\")\n",
        "    plt.legend()\n",
        "    plt.show()"
      ],
      "metadata": {
        "id": "J3GgLIlXylZq"
      },
      "execution_count": 133,
      "outputs": []
    },
    {
      "cell_type": "code",
      "source": [
        "# === Full validation pass with metrics ===\n",
        "def evaluate_val(loader):\n",
        "    model.eval()\n",
        "    all_stats = []\n",
        "    with torch.no_grad():\n",
        "        for xb, yb in loader:\n",
        "            xb, yb = xb.to(device), yb.to(device)\n",
        "            yhat = model(xb)               # normalized predictions\n",
        "            stats = batch_metrics_axis(yhat, yb)\n",
        "            all_stats.append(stats)\n",
        "\n",
        "    # average the dicts\n",
        "    keys = all_stats[0].keys()\n",
        "    summary = {k: float(np.mean([d[k] for d in all_stats if np.isfinite(d[k])])) for k in keys}\n",
        "    return summary\n",
        "\n",
        "val_metrics = evaluate_val(val_loader)\n",
        "print(\"Validation metrics (axis units):\")\n",
        "for k, v in val_metrics.items():\n",
        "    print(f\"  {k:>14}: {v:.4f}\")\n"
      ],
      "metadata": {
        "colab": {
          "base_uri": "https://localhost:8080/"
        },
        "id": "pdIYN9F-ynj6",
        "outputId": "ddfdb69f-1e31-493b-e667-77aabe958be3"
      },
      "execution_count": 134,
      "outputs": [
        {
          "output_type": "stream",
          "name": "stdout",
          "text": [
            "Validation metrics (axis units):\n",
            "        MAE_axis: 6.1182\n",
            "       RMSE_axis: 6.7929\n",
            "         R2_axis: -0.0111\n",
            "        hit@±0.5: 0.0331\n",
            "        hit@±1.0: 0.0666\n",
            "        hit@±2.0: 0.1372\n",
            "  curve_hit@±0.5: 0.0000\n",
            "  curve_hit@±1.0: 0.0000\n",
            "  curve_hit@±2.0: 0.0000\n"
          ]
        }
      ]
    },
    {
      "cell_type": "markdown",
      "source": [
        "## Simple training/validation loop"
      ],
      "metadata": {
        "id": "HH6ionn7ug_i"
      }
    },
    {
      "cell_type": "code",
      "source": [
        "def run_epoch(loader, train=True):\n",
        "    model.train(train)\n",
        "    total = 0.0\n",
        "    with torch.set_grad_enabled(train):\n",
        "        for xb, yb in loader:\n",
        "            pred = model(xb)\n",
        "            loss = criterion(pred, yb)\n",
        "            if train:\n",
        "                optimizer .zero_grad()\n",
        "                loss.backward()\n",
        "                optimizer .step()\n",
        "            total += loss.item() * xb.size(0)\n",
        "    return total / len(loader.dataset)\n",
        "\n",
        "# Change to determine # of images trained\n",
        "epochs = 50\n",
        "for ep in range(1, epochs+1):\n",
        "    tr = run_epoch(train_loader, train=True)\n",
        "    va = run_epoch(val_loader,   train=False)\n",
        "    val_metrics = evaluate_val(val_loader)\n",
        "    print(f\"epoch {ep:02d} | train MSE {tr:.5f} | val MSE {va:.5f} | \"\n",
        "          f\"MAE_axis {val_metrics['MAE_axis']:.3f} | hit@±1 {val_metrics['hit@±1.0']:.2%} | \"\n",
        "          f\"curve_hit@±1 {val_metrics['curve_hit@±1.0']:.1%}\")"
      ],
      "metadata": {
        "colab": {
          "base_uri": "https://localhost:8080/"
        },
        "id": "qOVSFOBcuiib",
        "outputId": "8f53b2c0-6a21-4c68-c550-9c7f35ab7601"
      },
      "execution_count": 135,
      "outputs": [
        {
          "output_type": "stream",
          "name": "stdout",
          "text": [
            "epoch 01 | train MSE 0.12394 | val MSE 0.12157 | MAE_axis 6.030 | hit@±1 6.18% | curve_hit@±1 0.0%\n",
            "epoch 02 | train MSE 0.11835 | val MSE 0.11861 | MAE_axis 5.830 | hit@±1 7.69% | curve_hit@±1 0.0%\n",
            "epoch 03 | train MSE 0.11483 | val MSE 0.11677 | MAE_axis 5.830 | hit@±1 7.01% | curve_hit@±1 0.0%\n",
            "epoch 04 | train MSE 0.11427 | val MSE 0.11644 | MAE_axis 5.829 | hit@±1 6.75% | curve_hit@±1 0.0%\n",
            "epoch 05 | train MSE 0.11398 | val MSE 0.11640 | MAE_axis 5.806 | hit@±1 6.37% | curve_hit@±1 0.0%\n",
            "epoch 06 | train MSE 0.11372 | val MSE 0.11594 | MAE_axis 5.820 | hit@±1 6.37% | curve_hit@±1 0.0%\n",
            "epoch 07 | train MSE 0.11334 | val MSE 0.11619 | MAE_axis 5.778 | hit@±1 6.65% | curve_hit@±1 0.0%\n",
            "epoch 08 | train MSE 0.11306 | val MSE 0.11516 | MAE_axis 5.811 | hit@±1 6.57% | curve_hit@±1 0.0%\n",
            "epoch 09 | train MSE 0.11251 | val MSE 0.11501 | MAE_axis 5.752 | hit@±1 6.76% | curve_hit@±1 0.0%\n",
            "epoch 10 | train MSE 0.11184 | val MSE 0.11391 | MAE_axis 5.724 | hit@±1 7.08% | curve_hit@±1 0.0%\n",
            "epoch 11 | train MSE 0.11063 | val MSE 0.11290 | MAE_axis 5.669 | hit@±1 7.00% | curve_hit@±1 0.0%\n",
            "epoch 12 | train MSE 0.10916 | val MSE 0.10968 | MAE_axis 5.713 | hit@±1 7.02% | curve_hit@±1 0.0%\n",
            "epoch 13 | train MSE 0.10576 | val MSE 0.10493 | MAE_axis 5.577 | hit@±1 7.22% | curve_hit@±1 0.0%\n",
            "epoch 14 | train MSE 0.09961 | val MSE 0.09828 | MAE_axis 5.285 | hit@±1 8.38% | curve_hit@±1 0.0%\n",
            "epoch 15 | train MSE 0.09130 | val MSE 0.08764 | MAE_axis 5.092 | hit@±1 8.81% | curve_hit@±1 0.0%\n",
            "epoch 16 | train MSE 0.08041 | val MSE 0.07572 | MAE_axis 4.661 | hit@±1 11.38% | curve_hit@±1 0.0%\n",
            "epoch 17 | train MSE 0.06989 | val MSE 0.06470 | MAE_axis 4.245 | hit@±1 12.52% | curve_hit@±1 0.0%\n",
            "epoch 18 | train MSE 0.06120 | val MSE 0.05718 | MAE_axis 3.866 | hit@±1 17.56% | curve_hit@±1 0.0%\n",
            "epoch 19 | train MSE 0.05647 | val MSE 0.05564 | MAE_axis 3.757 | hit@±1 20.46% | curve_hit@±1 0.0%\n",
            "epoch 20 | train MSE 0.05416 | val MSE 0.05370 | MAE_axis 3.624 | hit@±1 22.99% | curve_hit@±1 0.0%\n",
            "epoch 21 | train MSE 0.05400 | val MSE 0.05548 | MAE_axis 3.616 | hit@±1 24.16% | curve_hit@±1 0.0%\n",
            "epoch 22 | train MSE 0.05460 | val MSE 0.05281 | MAE_axis 3.578 | hit@±1 24.30% | curve_hit@±1 0.0%\n",
            "epoch 23 | train MSE 0.05316 | val MSE 0.05250 | MAE_axis 3.563 | hit@±1 23.78% | curve_hit@±1 0.0%\n",
            "epoch 24 | train MSE 0.05278 | val MSE 0.05291 | MAE_axis 3.535 | hit@±1 25.64% | curve_hit@±1 0.0%\n",
            "epoch 25 | train MSE 0.05267 | val MSE 0.05321 | MAE_axis 3.609 | hit@±1 24.78% | curve_hit@±1 0.0%\n",
            "epoch 26 | train MSE 0.05237 | val MSE 0.05259 | MAE_axis 3.510 | hit@±1 24.73% | curve_hit@±1 0.0%\n",
            "epoch 27 | train MSE 0.05166 | val MSE 0.05154 | MAE_axis 3.535 | hit@±1 26.41% | curve_hit@±1 6.8%\n",
            "epoch 28 | train MSE 0.05107 | val MSE 0.05100 | MAE_axis 3.508 | hit@±1 26.34% | curve_hit@±1 9.1%\n",
            "epoch 29 | train MSE 0.05074 | val MSE 0.05136 | MAE_axis 3.451 | hit@±1 27.03% | curve_hit@±1 4.4%\n",
            "epoch 30 | train MSE 0.05049 | val MSE 0.04994 | MAE_axis 3.456 | hit@±1 27.25% | curve_hit@±1 10.3%\n",
            "epoch 31 | train MSE 0.04979 | val MSE 0.04946 | MAE_axis 3.441 | hit@±1 27.48% | curve_hit@±1 6.4%\n",
            "epoch 32 | train MSE 0.04898 | val MSE 0.04913 | MAE_axis 3.376 | hit@±1 28.05% | curve_hit@±1 10.3%\n",
            "epoch 33 | train MSE 0.04909 | val MSE 0.04851 | MAE_axis 3.413 | hit@±1 27.74% | curve_hit@±1 4.4%\n",
            "epoch 34 | train MSE 0.04819 | val MSE 0.04683 | MAE_axis 3.317 | hit@±1 27.94% | curve_hit@±1 6.4%\n",
            "epoch 35 | train MSE 0.04644 | val MSE 0.04529 | MAE_axis 3.265 | hit@±1 28.28% | curve_hit@±1 8.7%\n",
            "epoch 36 | train MSE 0.04461 | val MSE 0.04392 | MAE_axis 3.233 | hit@±1 27.27% | curve_hit@±1 0.4%\n",
            "epoch 37 | train MSE 0.04278 | val MSE 0.04203 | MAE_axis 3.127 | hit@±1 25.29% | curve_hit@±1 0.0%\n",
            "epoch 38 | train MSE 0.04181 | val MSE 0.03901 | MAE_axis 2.947 | hit@±1 28.37% | curve_hit@±1 0.0%\n",
            "epoch 39 | train MSE 0.03999 | val MSE 0.03718 | MAE_axis 2.886 | hit@±1 28.95% | curve_hit@±1 10.1%\n",
            "epoch 40 | train MSE 0.03656 | val MSE 0.03376 | MAE_axis 2.709 | hit@±1 28.59% | curve_hit@±1 3.9%\n",
            "epoch 41 | train MSE 0.03386 | val MSE 0.03223 | MAE_axis 2.578 | hit@±1 26.06% | curve_hit@±1 0.4%\n",
            "epoch 42 | train MSE 0.03180 | val MSE 0.02886 | MAE_axis 2.392 | hit@±1 27.31% | curve_hit@±1 1.4%\n",
            "epoch 43 | train MSE 0.03000 | val MSE 0.02943 | MAE_axis 2.251 | hit@±1 41.18% | curve_hit@±1 9.5%\n",
            "epoch 44 | train MSE 0.02938 | val MSE 0.02704 | MAE_axis 2.130 | hit@±1 42.47% | curve_hit@±1 4.4%\n",
            "epoch 45 | train MSE 0.02822 | val MSE 0.02704 | MAE_axis 2.129 | hit@±1 36.12% | curve_hit@±1 0.0%\n",
            "epoch 46 | train MSE 0.02718 | val MSE 0.02469 | MAE_axis 1.921 | hit@±1 44.74% | curve_hit@±1 2.1%\n",
            "epoch 47 | train MSE 0.02604 | val MSE 0.02364 | MAE_axis 1.865 | hit@±1 47.77% | curve_hit@±1 1.7%\n",
            "epoch 48 | train MSE 0.02521 | val MSE 0.02358 | MAE_axis 1.840 | hit@±1 50.56% | curve_hit@±1 5.2%\n",
            "epoch 49 | train MSE 0.02536 | val MSE 0.02279 | MAE_axis 1.757 | hit@±1 52.70% | curve_hit@±1 12.0%\n",
            "epoch 50 | train MSE 0.02495 | val MSE 0.02276 | MAE_axis 1.750 | hit@±1 52.93% | curve_hit@±1 8.7%\n"
          ]
        }
      ]
    },
    {
      "cell_type": "code",
      "source": [
        "model.eval()\n",
        "with torch.no_grad():\n",
        "    xb, yb = next(iter(val_loader))\n",
        "    xb = xb.to(device)\n",
        "    yhat = model(xb).cpu().numpy()        # normalized [0,1]\n",
        "    y_true = yb.numpy()                   # normalized [0,1]\n",
        "    yhat_axis = 1.0 + 19.0 * yhat         # back to [1,20]\n",
        "    ytrue_axis = 1.0 + 19.0 * y_true\n",
        "\n",
        "print(\"Sample #0 (first three y's):\")\n",
        "print(\" pred:\", np.round(yhat_axis[0][:3], 3))\n",
        "print(\" true:\", np.round(ytrue_axis[0][:3], 3))"
      ],
      "metadata": {
        "colab": {
          "base_uri": "https://localhost:8080/"
        },
        "id": "14fLmcfwxRPi",
        "outputId": "097577f2-ec18-4270-c0c6-52f9ccb2f453"
      },
      "execution_count": 136,
      "outputs": [
        {
          "output_type": "stream",
          "name": "stdout",
          "text": [
            "Sample #0 (first three y's):\n",
            " pred: [1.31  2.831 4.376]\n",
            " true: [1.    1.396 2.639]\n"
          ]
        }
      ]
    },
    {
      "cell_type": "code",
      "source": [
        "# Show a validation sample\n",
        "show_val_sample(idx=2)"
      ],
      "metadata": {
        "id": "I4qHAyCj2kjL",
        "outputId": "408ec776-4512-46e3-c6a3-a35412128cb0",
        "colab": {
          "base_uri": "https://localhost:8080/",
          "height": 904
        }
      },
      "execution_count": 137,
      "outputs": [
        {
          "output_type": "display_data",
          "data": {
            "text/plain": [
              "<Figure size 640x480 with 1 Axes>"
            ],
            "image/png": "[encoded data removed]"
          },
          "metadata": {}
        },
        {
          "output_type": "display_data",
          "data": {
            "text/plain": [
              "<Figure size 640x480 with 1 Axes>"
            ],
            "image/png": "[encoded data removed]"
          },
          "metadata": {}
        }
      ]
    },
    {
      "cell_type": "markdown",
      "source": [
        "## Export predictions to CSV (end-to-end demo)"
      ],
      "metadata": {
        "id": "UG1TjuWYulfi"
      }
    },
    {
      "cell_type": "code",
      "source": [
        "def predict_to_csv(img_path_list, out_csv=\"predictions.csv\"):\n",
        "    model.eval()\n",
        "    rows = []\n",
        "    with torch.no_grad():\n",
        "        for p in img_path_list:\n",
        "            img = Image.open(p).convert(\"L\").resize((50, 50))\n",
        "            x = torch.from_numpy((np.asarray(img, np.float32)/255.0)[None,None])\n",
        "            yhat = model(x).squeeze(0).cpu().numpy()\n",
        "            # unnormalize back to axis units y = 1 + 19*y_norm\n",
        "            y_axis = 1.0 + 19.0 * yhat\n",
        "            row = {\"image\": p}\n",
        "            for k, v in enumerate(y_axis, start=1):\n",
        "                row[f\"y{k}\"] = float(v)\n",
        "            rows.append(row)\n",
        "    with open(out_csv, \"w\", newline=\"\") as f:\n",
        "        writer = csv.DictWriter(f, fieldnames=[\"image\"]+[f\"y{k}\" for k in range(1,21)])\n",
        "        writer.writeheader(); writer.writerows(rows)\n",
        "    return out_csv\n",
        "\n",
        "val_df = pd.read_csv(os.path.join(val_dir, \"labels.csv\"))\n",
        "root = os.path.dirname(val_dir)\n",
        "sample_imgs = [os.path.join(root, p) for p in val_df[\"image\"].head(5).tolist()]\n",
        "predict_to_csv(sample_imgs, out_csv=\"val_samples_predictions.csv\")\n"
      ],
      "metadata": {
        "colab": {
          "base_uri": "https://localhost:8080/",
          "height": 36
        },
        "id": "LHCyTAwBupVi",
        "outputId": "dc4de7d0-1673-4eb3-864f-1f78a8812e52"
      },
      "execution_count": 138,
      "outputs": [
        {
          "output_type": "execute_result",
          "data": {
            "text/plain": [
              "'val_samples_predictions.csv'"
            ],
            "application/vnd.google.colaboratory.intrinsic+json": {
              "type": "string"
            }
          },
          "metadata": {},
          "execution_count": 138
        }
      ]
    }
  ]
}