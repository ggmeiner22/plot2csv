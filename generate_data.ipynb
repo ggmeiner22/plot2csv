{
  "nbformat": 4,
  "nbformat_minor": 0,
  "metadata": {
    "colab": {
      "provenance": [],
      "authorship_tag": "ABX9TyN25v/xEQszO1vXVlAV5Ib0",
      "include_colab_link": true
    },
    "kernelspec": {
      "name": "python3",
      "display_name": "Python 3"
    },
    "language_info": {
      "name": "python"
    }
  },
  "cells": [
    {
      "cell_type": "markdown",
      "metadata": {
        "id": "view-in-github",
        "colab_type": "text"
      },
      "source": [
        "<a href=\"https://colab.research.google.com/github/ggmeiner22/plot2csv/blob/main/generate_data.ipynb\" target=\"_parent\"><img src=\"https://colab.research.google.com/assets/colab-badge.svg\" alt=\"Open In Colab\"/></a>"
      ]
    },
    {
      "cell_type": "code",
      "source": [
        "import os\n",
        "import io\n",
        "import math\n",
        "import base64\n",
        "import random\n",
        "import numpy as np\n",
        "import pandas as pd\n",
        "from PIL import Image, ImageDraw\n",
        "import matplotlib.pyplot as plt\n",
        "from sklearn.model_selection import train_test_split\n",
        "\n",
        "!rm -rf /content/sample_data"
      ],
      "metadata": {
        "id": "BD_UIMennDw9"
      },
      "execution_count": 16,
      "outputs": []
    },
    {
      "cell_type": "code",
      "execution_count": 10,
      "metadata": {
        "id": "EXRAw_XQl7r8"
      },
      "outputs": [],
      "source": [
        "CURVE_TYPES = [\"linear\", \"quadratic\", \"exponential\", \"logarithmic\", \"sinusoid\", \"sigmoid\"]\n",
        "X_AXIS = np.arange(1, 21)\n",
        "\n",
        "\n",
        "def set_seed(seed: int | None):\n",
        "    if seed is not None:\n",
        "        random.seed(seed)\n",
        "        np.random.seed(seed)\n",
        "\n",
        "\n",
        "def scale_to_axis(y_raw, low=1.0, high=20.0):\n",
        "    y_raw = np.asarray(y_raw, dtype=float)\n",
        "    ymin, ymax = np.min(y_raw), np.max(y_raw)\n",
        "    if ymax - ymin < 1e-8:\n",
        "        return np.ones_like(y_raw) * ((low + high) / 2.0)\n",
        "    y_norm = (y_raw - ymin) / (ymax - ymin)\n",
        "    return low + y_norm * (high - low)\n",
        "\n",
        "\n",
        "def to_pixel(x_axis, y_axis, w, h):\n",
        "    px = int(round((x_axis - 1) / 19.0 * (w - 1)))\n",
        "    py = int(round((20.0 - y_axis) / 19.0 * (h - 1)))\n",
        "    return px, py\n",
        "\n",
        "\n",
        "from PIL import Image, ImageDraw\n",
        "\n",
        "def _to_hr_px(x_axis, y_axis, W, H):\n",
        "\n",
        "    px = int(round((x_axis - 1) / 19.0 * (W - 1)))\n",
        "    py = int(round((20.0 - y_axis) / 19.0 * (H - 1)))\n",
        "    return px, py\n",
        "\n",
        "def draw_curve_pretty(y_axis, img_size=50, stroke=2, with_markers=True):\n",
        "    \"\"\"\n",
        "    Render a smooth, antialiased curve with markers at x=1..20.\n",
        "    Internally draw at high-res and downsample to img_size.\n",
        "    \"\"\"\n",
        "    # High-res canvas for anti-aliasing\n",
        "    HR = 256                     # internal resolution (bigger => smoother)\n",
        "    W = H = HR\n",
        "    line_w = 6                   # high-res line width (gets smoothed on downscale)\n",
        "    marker_r = 7 if with_markers else 0  # high-res marker radius\n",
        "\n",
        "    # 1) draw in high-res\n",
        "    img_hr = Image.new(\"L\", (W, H), color=255)\n",
        "    dr = ImageDraw.Draw(img_hr)\n",
        "\n",
        "    # Fine interpolation for a smooth curve\n",
        "    x_fine = np.linspace(1, 20, 400)\n",
        "    y_fine = np.interp(x_fine, X_AXIS, y_axis)\n",
        "    pts = [_to_hr_px(x, y_fine[i], W, H) for i, x in enumerate(x_fine)]\n",
        "\n",
        "    # Smooth polyline\n",
        "    for (x0, y0), (x1, y1) in zip(pts[:-1], pts[1:]):\n",
        "        dr.line((x0, y0, x1, y1), fill=0, width=line_w)\n",
        "\n",
        "    # Optional: round markers at the 20 sample points\n",
        "    if with_markers:\n",
        "        for i, x in enumerate(X_AXIS):\n",
        "            px, py = _to_hr_px(x, y_axis[i], W, H)\n",
        "            dr.ellipse((px - marker_r, py - marker_r, px + marker_r, py + marker_r), outline=0, width=3, fill=None)\n",
        "\n",
        "    # 2) downsample to the requested size with bicubic filter (anti-aliased)\n",
        "    img = img_hr.resize((img_size, img_size), Image.BICUBIC)\n",
        "    return img\n",
        "\n",
        "\n",
        "\n",
        "\n",
        "def sample_params(curve_type):\n",
        "    if curve_type == \"linear\":\n",
        "        a = np.random.uniform(-3, 3)\n",
        "        b = np.random.uniform(-10, 10)\n",
        "        return a, b\n",
        "    if curve_type == \"quadratic\":\n",
        "        a = np.random.uniform(-1.5, 1.5)\n",
        "        b = np.random.uniform(-5, 5)\n",
        "        c = np.random.uniform(-10, 10)\n",
        "        return a, b, c\n",
        "    if curve_type == \"exponential\":\n",
        "        A = np.random.uniform(0.5, 3.0)\n",
        "        k = np.random.uniform(-0.25, 0.25)\n",
        "        c = np.random.uniform(-3, 3)\n",
        "        return A, k, c\n",
        "    if curve_type == \"logarithmic\":\n",
        "        A = np.random.uniform(0.5, 5.0)\n",
        "        shift = np.random.uniform(-2.0, 2.0)\n",
        "        base = np.random.uniform(1.5, 4.0)\n",
        "        c = np.random.uniform(-3, 3)\n",
        "        return A, shift, base, c\n",
        "    if curve_type == \"sinusoid\":\n",
        "        A = np.random.uniform(1.0, 8.0)\n",
        "        w = np.random.uniform(0.2, 1.0)\n",
        "        phi = np.random.uniform(0, 2 * math.pi)\n",
        "        c = np.random.uniform(-5, 5)\n",
        "        return A, w, phi, c\n",
        "    if curve_type == \"sigmoid\":\n",
        "        A = np.random.uniform(5.0, 20.0)\n",
        "        k = np.random.uniform(0.2, 1.0)\n",
        "        x0 = np.random.uniform(5.0, 15.0)\n",
        "        c = np.random.uniform(-5, 5)\n",
        "        return A, k, x0, c\n",
        "    raise ValueError(curve_type)\n",
        "\n",
        "\n",
        "def gen_curve_values(curve_type, params):\n",
        "    x = np.asarray(X_AXIS, dtype=float)\n",
        "    if curve_type == \"linear\":\n",
        "        a, b = params\n",
        "        y = a * x + b\n",
        "    elif curve_type == \"quadratic\":\n",
        "        a, b, c = params\n",
        "        y = a * x**2 + b * x + c\n",
        "    elif curve_type == \"exponential\":\n",
        "        A, k, c = params\n",
        "        y = A * np.exp(k * x) + c\n",
        "    elif curve_type == \"logarithmic\":\n",
        "        A, shift, base, c = params\n",
        "        z = np.maximum(x + shift, 1e-3)\n",
        "        y = A * (np.log(z) / np.log(base)) + c\n",
        "    elif curve_type == \"sinusoid\":\n",
        "        A, w, phi, c = params\n",
        "        y = A * np.sin(w * x + phi) + c\n",
        "    elif curve_type == \"sigmoid\":\n",
        "        A, k, x0, c = params\n",
        "        y = A / (1.0 + np.exp(-k * (x - x0))) + c\n",
        "    else:\n",
        "        raise ValueError(curve_type)\n",
        "\n",
        "    std = np.std(y)\n",
        "    noise_sigma = 0.02 * std if std > 0 else 0.05\n",
        "    y_noisy = y + np.random.normal(0, noise_sigma, size=y.shape)\n",
        "    return scale_to_axis(y_noisy, 1.0, 20.0)\n",
        "\n",
        "\n",
        "def generate_dataset(\n",
        "    out_dir=\"/content/plot2csv_synth\",\n",
        "    n_per_type=200,\n",
        "    img_size=50,\n",
        "    jpeg_quality=90,\n",
        "    seed=42,\n",
        "    include_base64=True,\n",
        "):\n",
        "    set_seed(seed)\n",
        "    out_dir = os.path.abspath(out_dir)\n",
        "    img_dir = os.path.join(out_dir, \"images\")\n",
        "    os.makedirs(img_dir, exist_ok=True)\n",
        "\n",
        "    rows = []\n",
        "    for curve_type in CURVE_TYPES:\n",
        "        for i in range(n_per_type):\n",
        "            params = sample_params(curve_type)\n",
        "            y_axis = gen_curve_values(curve_type, params)\n",
        "            img = draw_curve_pretty(y_axis, img_size=img_size, stroke=random.choice([1, 1, 2]))\n",
        "\n",
        "            fname = f\"{curve_type}_{i:04d}.jpg\"\n",
        "            path = os.path.join(img_dir, fname)\n",
        "            img.save(path, format=\"JPEG\", quality=jpeg_quality, subsampling=1)\n",
        "\n",
        "            if include_base64:\n",
        "                with io.BytesIO() as buf:\n",
        "                    img.save(buf, format=\"JPEG\", quality=jpeg_quality, subsampling=1)\n",
        "                    img_b64 = base64.b64encode(buf.getvalue()).decode(\"ascii\")\n",
        "            else:\n",
        "                img_b64 = None\n",
        "\n",
        "            row = {\"type\": curve_type, \"image\": path}\n",
        "            if include_base64:\n",
        "                row[\"image_b64_jpeg\"] = img_b64\n",
        "\n",
        "            for k, yval in enumerate(y_axis, start=1):\n",
        "                row[f\"y{k}\"] = float(yval)\n",
        "                row[f\"y{k}_norm\"] = float((yval - 1.0) / 19.0)\n",
        "\n",
        "            rows.append(row)\n",
        "\n",
        "    df = pd.DataFrame(rows)\n",
        "    csv_path = os.path.join(out_dir, f\"dataset_six_shapes_{len(df)}.csv\")\n",
        "    df.to_csv(csv_path, index=False)\n",
        "    return csv_path"
      ]
    },
    {
      "cell_type": "code",
      "source": [
        "csv_path = generate_dataset(\n",
        "    out_dir=\"/content/plot2csv_synth\",  # where images + CSV will go\n",
        "    n_per_type=200,                    # 6 types × 200 = 1200 samples\n",
        "    img_size=50,\n",
        "    jpeg_quality=90,\n",
        "    seed=42,                           # or None for fresh randomness\n",
        "    include_base64=True\n",
        ")\n",
        "csv_path"
      ],
      "metadata": {
        "colab": {
          "base_uri": "https://localhost:8080/",
          "height": 36
        },
        "id": "O9yaS1yhmKOk",
        "outputId": "4ea8ad0e-6ba1-47a2-ffb0-5ac4522997bf"
      },
      "execution_count": 11,
      "outputs": [
        {
          "output_type": "execute_result",
          "data": {
            "text/plain": [
              "'/content/plot2csv_synth/dataset_six_shapes_1200.csv'"
            ],
            "application/vnd.google.colaboratory.intrinsic+json": {
              "type": "string"
            }
          },
          "metadata": {},
          "execution_count": 11
        }
      ]
    },
    {
      "cell_type": "code",
      "source": [
        "\n",
        "#out_dir = \"/content/plot2csv_synth\"\n",
        "\n",
        "assert os.path.exists(csv_path), f\"Master CSV not found at {csv_path}. Run the data-gen cell first.\"\n",
        "\n",
        "def write_splits(csv_path, out_dir, val_size=0.15, seed=42, make_rel_paths=True):\n",
        "    df = pd.read_csv(csv_path)\n",
        "\n",
        "    # Expect columns: image, y1_norm ... y20_norm (plus optionally y1 ... y20)\n",
        "    needed = [\"image\"] + [f\"y{k}_norm\" for k in range(1, 21)]\n",
        "    missing = [c for c in needed if c not in df.columns]\n",
        "    if missing:\n",
        "        raise ValueError(f\"Missing columns in {csv_path}: {missing}\")\n",
        "\n",
        "    # Make image paths relative to out_dir so the dataset can load them from anywhere\n",
        "    if make_rel_paths:\n",
        "        df[\"image\"] = df[\"image\"].apply(lambda p: os.path.relpath(p, start=out_dir))\n",
        "\n",
        "    # Split\n",
        "    train_df, val_df = train_test_split(\n",
        "        df, test_size=val_size, random_state=seed, shuffle=True\n",
        "    )\n",
        "\n",
        "    # Create split dirs\n",
        "    train_dir = os.path.join(out_dir, \"train\"); os.makedirs(train_dir, exist_ok=True)\n",
        "    val_dir   = os.path.join(out_dir, \"val\");   os.makedirs(val_dir, exist_ok=True)\n",
        "\n",
        "    # Write labels.csv for each split\n",
        "    train_csv = os.path.join(train_dir, \"labels.csv\")\n",
        "    val_csv   = os.path.join(val_dir, \"labels.csv\")\n",
        "    train_df.to_csv(train_csv, index=False)\n",
        "    val_df.to_csv(val_csv, index=False)\n",
        "\n",
        "    print(f\"Wrote:\\n  {train_csv}\\n  {val_csv}\")\n",
        "    return train_dir, val_dir\n",
        "\n",
        "train_dir, val_dir = write_splits(csv_path, out_dir)\n"
      ],
      "metadata": {
        "id": "qTE93FBPriFE",
        "outputId": "7c5a3af0-e78e-44ec-c07b-b0ab69223d69",
        "colab": {
          "base_uri": "https://localhost:8080/"
        }
      },
      "execution_count": 12,
      "outputs": [
        {
          "output_type": "stream",
          "name": "stdout",
          "text": [
            "Wrote:\n",
            "  /content/plot2csv_synth/train/labels.csv\n",
            "  /content/plot2csv_synth/val/labels.csv\n"
          ]
        }
      ]
    },
    {
      "cell_type": "code",
      "source": [
        "\n",
        "df = pd.read_csv(csv_path)\n",
        "df.head()        # show first few rows\n",
        "len(df)          # confirm total rows"
      ],
      "metadata": {
        "colab": {
          "base_uri": "https://localhost:8080/"
        },
        "id": "2dWOvMlrmXKT",
        "outputId": "79159742-d34c-40e5-c644-fc43ceb0a21d"
      },
      "execution_count": 13,
      "outputs": [
        {
          "output_type": "execute_result",
          "data": {
            "text/plain": [
              "1200"
            ]
          },
          "metadata": {},
          "execution_count": 13
        }
      ]
    },
    {
      "cell_type": "code",
      "source": [
        "# Pick a few sample rows\n",
        "sample_rows = df.sample(4)  # random 4 samples\n",
        "\n",
        "for idx, row in sample_rows.iterrows():\n",
        "    img = Image.open(row[\"image\"])\n",
        "    plt.imshow(img, cmap='gray')\n",
        "    plt.title(f\"{row['type']} | {row['image']}\")\n",
        "    plt.axis('off')\n",
        "    plt.show()"
      ],
      "metadata": {
        "colab": {
          "base_uri": "https://localhost:8080/",
          "height": 1000
        },
        "id": "v1k7_QD5mdqj",
        "outputId": "33a13632-d12e-4636-88f4-14f10c64a063"
      },
      "execution_count": 14,
      "outputs": [
        {
          "output_type": "display_data",
          "data": {
            "text/plain": [
              "<Figure size 640x480 with 1 Axes>"
            ],
            "image/png": "[encoded data removed]"
          },
          "metadata": {}
        },
        {
          "output_type": "display_data",
          "data": {
            "text/plain": [
              "<Figure size 640x480 with 1 Axes>"
            ],
            "image/png": "[encoded data removed]"
          },
          "metadata": {}
        },
        {
          "output_type": "display_data",
          "data": {
            "text/plain": [
              "<Figure size 640x480 with 1 Axes>"
            ],
            "image/png": "[encoded data removed]"
          },
          "metadata": {}
        },
        {
          "output_type": "display_data",
          "data": {
            "text/plain": [
              "<Figure size 640x480 with 1 Axes>"
            ],
            "image/png": "[encoded data removed]"
          },
          "metadata": {}
        }
      ]
    },
    {
      "cell_type": "code",
      "source": [
        "def load_images_to_numpy(image_paths, img_size=(50, 50)):\n",
        "    imgs = []\n",
        "    for p in image_paths:\n",
        "        img = Image.open(p).convert(\"L\")\n",
        "        img = img.resize(img_size)\n",
        "        img_arr = np.array(img, dtype=np.float32) / 255.0  # normalize to [0,1]\n",
        "        imgs.append(img_arr)\n",
        "    return np.stack(imgs)\n",
        "\n",
        "csv_path = '/content/plot2csv_synth/dataset_six_shapes_1200.csv'\n",
        "\n",
        "\n",
        "df = pd.read_csv(csv_path)\n",
        "\n",
        "X = load_images_to_numpy(df[\"image\"].tolist(), img_size=(50, 50))\n",
        "\n",
        "\n",
        "\n",
        "print(\"X shape:\", X.shape)\n",
        "\n",
        "# Map curve types to integer labels\n",
        "label_map = {curve_type: idx for idx, curve_type in enumerate(df[\"type\"].unique())}\n",
        "y = df[\"type\"].map(label_map).values\n",
        "\n",
        "print(\"Label mapping:\", label_map)\n",
        "print(\"y shape:\", y.shape)\n",
        "print(\"First 10 labels:\", y[:10])\n",
        "\n",
        "num_classes = len(label_map)\n",
        "y_onehot = np.eye(num_classes)[y]\n",
        "\n",
        "print(\"y_onehot shape:\", y_onehot.shape)"
      ],
      "metadata": {
        "colab": {
          "base_uri": "https://localhost:8080/"
        },
        "id": "lqw3lAaxmhX9",
        "outputId": "cf6ac3f2-0c80-471c-cf9b-a6a38f597055"
      },
      "execution_count": 15,
      "outputs": [
        {
          "output_type": "stream",
          "name": "stdout",
          "text": [
            "X shape: (1200, 50, 50)\n",
            "Label mapping: {'linear': 0, 'quadratic': 1, 'exponential': 2, 'logarithmic': 3, 'sinusoid': 4, 'sigmoid': 5}\n",
            "y shape: (1200,)\n",
            "First 10 labels: [0 0 0 0 0 0 0 0 0 0]\n",
            "y_onehot shape: (1200, 6)\n"
          ]
        }
      ]
    }
  ]
}